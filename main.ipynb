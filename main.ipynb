{
 "cells": [
  {
   "cell_type": "code",
   "execution_count": 20,
   "metadata": {},
   "outputs": [],
   "source": [
    "with open(\"input.txt\", \"r\", encoding=\"utf-8\") as f:\n",
    "    text = f.read()"
   ]
  },
  {
   "cell_type": "code",
   "execution_count": 21,
   "metadata": {},
   "outputs": [
    {
     "name": "stdout",
     "output_type": "stream",
     "text": [
      "length of dataset in characters:  1115393\n"
     ]
    }
   ],
   "source": [
    "print(\"length of dataset in characters: \", len(text))"
   ]
  },
  {
   "cell_type": "code",
   "execution_count": 22,
   "metadata": {},
   "outputs": [
    {
     "name": "stdout",
     "output_type": "stream",
     "text": [
      "First Citizen:\n",
      "Before we proceed any further, hear me speak.\n",
      "\n",
      "All:\n",
      "Speak, speak.\n",
      "\n",
      "First Citizen:\n",
      "You are all resolved rather to die than to famish?\n",
      "\n",
      "All:\n",
      "Resolved. resolved.\n",
      "\n",
      "First Citizen:\n",
      "First, you know Caius Marcius is chief enemy to the people.\n",
      "\n",
      "All:\n",
      "We know't, we know't.\n",
      "\n",
      "First Citizen:\n",
      "Let us kill him, and we'll have corn at our own price.\n",
      "Is't a verdict?\n",
      "\n",
      "All:\n",
      "No more talking on't; let it be done: away, away!\n",
      "\n",
      "Second Citizen:\n",
      "One word, good citizens.\n",
      "\n",
      "First Citizen:\n",
      "We are accounted poor citizens, the patricians good.\n",
      "What authority surfeits on would relieve us: if they\n",
      "would yield us but the superfluity, while it were\n",
      "wholesome, we might guess they relieved us humanely;\n",
      "but they think we are too dear: the leanness that\n",
      "afflicts us, the object of our misery, is as an\n",
      "inventory to particularise their abundance; our\n",
      "sufferance is a gain to them Let us revenge this with\n",
      "our pikes, ere we become rakes: for the gods know I\n",
      "speak this in hunger for bread, not in thirst for revenge.\n",
      "\n",
      "\n"
     ]
    }
   ],
   "source": [
    "print(text[:1000])"
   ]
  },
  {
   "cell_type": "code",
   "execution_count": 23,
   "metadata": {},
   "outputs": [
    {
     "name": "stdout",
     "output_type": "stream",
     "text": [
      "\n",
      " !$&',-.3:;?ABCDEFGHIJKLMNOPQRSTUVWXYZabcdefghijklmnopqrstuvwxyz\n",
      "65\n"
     ]
    }
   ],
   "source": [
    "chars = sorted(list(set(text)))\n",
    "vocab_size = len(chars)\n",
    "print(''.join(chars))\n",
    "print(vocab_size)"
   ]
  },
  {
   "cell_type": "code",
   "execution_count": 24,
   "metadata": {},
   "outputs": [
    {
     "name": "stdout",
     "output_type": "stream",
     "text": [
      "[46, 47, 47, 1, 58, 46, 43, 56, 43]\n",
      "hii there\n"
     ]
    }
   ],
   "source": [
    "stoi = {ch: i for i, ch in enumerate(chars)}\n",
    "itos = {i: ch for i, ch in enumerate(chars)}\n",
    "def encode(s): return [stoi[c] for c in s]\n",
    "def decode(l): return ''.join([itos[i] for i in l])\n",
    "\n",
    "\n",
    "print(encode(\"hii there\"))\n",
    "print(decode(encode(\"hii there\")))"
   ]
  },
  {
   "cell_type": "code",
   "execution_count": 25,
   "metadata": {},
   "outputs": [
    {
     "name": "stdout",
     "output_type": "stream",
     "text": [
      "torch.Size([1115393]) <built-in method type of Tensor object at 0x106c11670>\n",
      "tensor([18, 47, 56, 57, 58,  1, 15, 47, 58, 47, 64, 43, 52, 10,  0, 14, 43, 44,\n",
      "        53, 56, 43,  1, 61, 43,  1, 54, 56, 53, 41, 43, 43, 42,  1, 39, 52, 63,\n",
      "         1, 44, 59, 56, 58, 46, 43, 56,  6,  1, 46, 43, 39, 56,  1, 51, 43,  1,\n",
      "        57, 54, 43, 39, 49,  8,  0,  0, 13, 50, 50, 10,  0, 31, 54, 43, 39, 49,\n",
      "         6,  1, 57, 54, 43, 39, 49,  8,  0,  0, 18, 47, 56, 57, 58,  1, 15, 47,\n",
      "        58, 47, 64, 43, 52, 10,  0, 37, 53, 59,  1, 39, 56, 43,  1, 39, 50, 50,\n",
      "         1, 56, 43, 57, 53, 50, 60, 43, 42,  1, 56, 39, 58, 46, 43, 56,  1, 58,\n",
      "        53,  1, 42, 47, 43,  1, 58, 46, 39, 52,  1, 58, 53,  1, 44, 39, 51, 47,\n",
      "        57, 46, 12,  0,  0, 13, 50, 50, 10,  0, 30, 43, 57, 53, 50, 60, 43, 42,\n",
      "         8,  1, 56, 43, 57, 53, 50, 60, 43, 42,  8,  0,  0, 18, 47, 56, 57, 58,\n",
      "         1, 15, 47, 58, 47, 64, 43, 52, 10,  0, 18, 47, 56, 57, 58,  6,  1, 63,\n",
      "        53, 59,  1, 49, 52, 53, 61,  1, 15, 39, 47, 59, 57,  1, 25, 39, 56, 41,\n",
      "        47, 59, 57,  1, 47, 57,  1, 41, 46, 47, 43, 44,  1, 43, 52, 43, 51, 63,\n",
      "         1, 58, 53,  1, 58, 46, 43,  1, 54, 43, 53, 54, 50, 43,  8,  0,  0, 13,\n",
      "        50, 50, 10,  0, 35, 43,  1, 49, 52, 53, 61,  5, 58,  6,  1, 61, 43,  1,\n",
      "        49, 52, 53, 61,  5, 58,  8,  0,  0, 18, 47, 56, 57, 58,  1, 15, 47, 58,\n",
      "        47, 64, 43, 52, 10,  0, 24, 43, 58,  1, 59, 57,  1, 49, 47, 50, 50,  1,\n",
      "        46, 47, 51,  6,  1, 39, 52, 42,  1, 61, 43,  5, 50, 50,  1, 46, 39, 60,\n",
      "        43,  1, 41, 53, 56, 52,  1, 39, 58,  1, 53, 59, 56,  1, 53, 61, 52,  1,\n",
      "        54, 56, 47, 41, 43,  8,  0, 21, 57,  5, 58,  1, 39,  1, 60, 43, 56, 42,\n",
      "        47, 41, 58, 12,  0,  0, 13, 50, 50, 10,  0, 26, 53,  1, 51, 53, 56, 43,\n",
      "         1, 58, 39, 50, 49, 47, 52, 45,  1, 53, 52,  5, 58, 11,  1, 50, 43, 58,\n",
      "         1, 47, 58,  1, 40, 43,  1, 42, 53, 52, 43, 10,  1, 39, 61, 39, 63,  6,\n",
      "         1, 39, 61, 39, 63,  2,  0,  0, 31, 43, 41, 53, 52, 42,  1, 15, 47, 58,\n",
      "        47, 64, 43, 52, 10,  0, 27, 52, 43,  1, 61, 53, 56, 42,  6,  1, 45, 53,\n",
      "        53, 42,  1, 41, 47, 58, 47, 64, 43, 52, 57,  8,  0,  0, 18, 47, 56, 57,\n",
      "        58,  1, 15, 47, 58, 47, 64, 43, 52, 10,  0, 35, 43,  1, 39, 56, 43,  1,\n",
      "        39, 41, 41, 53, 59, 52, 58, 43, 42,  1, 54, 53, 53, 56,  1, 41, 47, 58,\n",
      "        47, 64, 43, 52, 57,  6,  1, 58, 46, 43,  1, 54, 39, 58, 56, 47, 41, 47,\n",
      "        39, 52, 57,  1, 45, 53, 53, 42,  8,  0, 35, 46, 39, 58,  1, 39, 59, 58,\n",
      "        46, 53, 56, 47, 58, 63,  1, 57, 59, 56, 44, 43, 47, 58, 57,  1, 53, 52,\n",
      "         1, 61, 53, 59, 50, 42,  1, 56, 43, 50, 47, 43, 60, 43,  1, 59, 57, 10,\n",
      "         1, 47, 44,  1, 58, 46, 43, 63,  0, 61, 53, 59, 50, 42,  1, 63, 47, 43,\n",
      "        50, 42,  1, 59, 57,  1, 40, 59, 58,  1, 58, 46, 43,  1, 57, 59, 54, 43,\n",
      "        56, 44, 50, 59, 47, 58, 63,  6,  1, 61, 46, 47, 50, 43,  1, 47, 58,  1,\n",
      "        61, 43, 56, 43,  0, 61, 46, 53, 50, 43, 57, 53, 51, 43,  6,  1, 61, 43,\n",
      "         1, 51, 47, 45, 46, 58,  1, 45, 59, 43, 57, 57,  1, 58, 46, 43, 63,  1,\n",
      "        56, 43, 50, 47, 43, 60, 43, 42,  1, 59, 57,  1, 46, 59, 51, 39, 52, 43,\n",
      "        50, 63, 11,  0, 40, 59, 58,  1, 58, 46, 43, 63,  1, 58, 46, 47, 52, 49,\n",
      "         1, 61, 43,  1, 39, 56, 43,  1, 58, 53, 53,  1, 42, 43, 39, 56, 10,  1,\n",
      "        58, 46, 43,  1, 50, 43, 39, 52, 52, 43, 57, 57,  1, 58, 46, 39, 58,  0,\n",
      "        39, 44, 44, 50, 47, 41, 58, 57,  1, 59, 57,  6,  1, 58, 46, 43,  1, 53,\n",
      "        40, 48, 43, 41, 58,  1, 53, 44,  1, 53, 59, 56,  1, 51, 47, 57, 43, 56,\n",
      "        63,  6,  1, 47, 57,  1, 39, 57,  1, 39, 52,  0, 47, 52, 60, 43, 52, 58,\n",
      "        53, 56, 63,  1, 58, 53,  1, 54, 39, 56, 58, 47, 41, 59, 50, 39, 56, 47,\n",
      "        57, 43,  1, 58, 46, 43, 47, 56,  1, 39, 40, 59, 52, 42, 39, 52, 41, 43,\n",
      "        11,  1, 53, 59, 56,  0, 57, 59, 44, 44, 43, 56, 39, 52, 41, 43,  1, 47,\n",
      "        57,  1, 39,  1, 45, 39, 47, 52,  1, 58, 53,  1, 58, 46, 43, 51,  1, 24,\n",
      "        43, 58,  1, 59, 57,  1, 56, 43, 60, 43, 52, 45, 43,  1, 58, 46, 47, 57,\n",
      "         1, 61, 47, 58, 46,  0, 53, 59, 56,  1, 54, 47, 49, 43, 57,  6,  1, 43,\n",
      "        56, 43,  1, 61, 43,  1, 40, 43, 41, 53, 51, 43,  1, 56, 39, 49, 43, 57,\n",
      "        10,  1, 44, 53, 56,  1, 58, 46, 43,  1, 45, 53, 42, 57,  1, 49, 52, 53,\n",
      "        61,  1, 21,  0, 57, 54, 43, 39, 49,  1, 58, 46, 47, 57,  1, 47, 52,  1,\n",
      "        46, 59, 52, 45, 43, 56,  1, 44, 53, 56,  1, 40, 56, 43, 39, 42,  6,  1,\n",
      "        52, 53, 58,  1, 47, 52,  1, 58, 46, 47, 56, 57, 58,  1, 44, 53, 56,  1,\n",
      "        56, 43, 60, 43, 52, 45, 43,  8,  0,  0])\n"
     ]
    }
   ],
   "source": [
    "import torch\n",
    "data = torch.tensor(encode(text), dtype=torch.long)\n",
    "print(data.shape, data.type)\n",
    "print(data[:1000])"
   ]
  },
  {
   "cell_type": "code",
   "execution_count": 26,
   "metadata": {},
   "outputs": [],
   "source": [
    "n = int(0.9*len(data))\n",
    "train_data = data[:n]\n",
    "val_data = data[n:]"
   ]
  },
  {
   "cell_type": "code",
   "execution_count": 27,
   "metadata": {},
   "outputs": [
    {
     "data": {
      "text/plain": [
       "tensor([18, 47, 56, 57, 58,  1, 15, 47, 58])"
      ]
     },
     "execution_count": 27,
     "metadata": {},
     "output_type": "execute_result"
    }
   ],
   "source": [
    "block_size = 8\n",
    "train_data[:block_size+1]"
   ]
  },
  {
   "cell_type": "code",
   "execution_count": 28,
   "metadata": {},
   "outputs": [
    {
     "name": "stdout",
     "output_type": "stream",
     "text": [
      "when the input is tensor([18]) the target: 47\n",
      "when the input is tensor([18, 47]) the target: 56\n",
      "when the input is tensor([18, 47, 56]) the target: 57\n",
      "when the input is tensor([18, 47, 56, 57]) the target: 58\n",
      "when the input is tensor([18, 47, 56, 57, 58]) the target: 1\n",
      "when the input is tensor([18, 47, 56, 57, 58,  1]) the target: 15\n",
      "when the input is tensor([18, 47, 56, 57, 58,  1, 15]) the target: 47\n",
      "when the input is tensor([18, 47, 56, 57, 58,  1, 15, 47]) the target: 58\n"
     ]
    }
   ],
   "source": [
    "x = train_data[:block_size]\n",
    "y = train_data[1:block_size+1]\n",
    "\n",
    "for t in range(block_size):\n",
    "    context = x[:t+1]\n",
    "    target = y[t]\n",
    "    print(f\"when the input is {context} the target: {target}\")"
   ]
  },
  {
   "cell_type": "code",
   "execution_count": 29,
   "metadata": {},
   "outputs": [
    {
     "name": "stdout",
     "output_type": "stream",
     "text": [
      "inputs: \n",
      "torch.Size([4, 8])\n",
      "tensor([[54, 43, 39, 49,  1, 39, 45, 39],\n",
      "        [43, 56, 57, 11,  1, 61, 46, 53],\n",
      "        [43,  1, 46, 39, 58, 46,  1, 58],\n",
      "        [43,  1, 47, 57,  1, 57, 53,  1]])\n",
      "target: \n",
      "torch.Size([4, 8])\n",
      "tensor([[43, 39, 49,  1, 39, 45, 39, 47],\n",
      "        [56, 57, 11,  1, 61, 46, 53,  6],\n",
      "        [ 1, 46, 39, 58, 46,  1, 58, 56],\n",
      "        [ 1, 47, 57,  1, 57, 53,  1, 50]])\n",
      "--------------------\n",
      "when the input is [54] the target: 43\n",
      "when the input is [54, 43] the target: 39\n",
      "when the input is [54, 43, 39] the target: 49\n",
      "when the input is [54, 43, 39, 49] the target: 1\n",
      "when the input is [54, 43, 39, 49, 1] the target: 39\n",
      "when the input is [54, 43, 39, 49, 1, 39] the target: 45\n",
      "when the input is [54, 43, 39, 49, 1, 39, 45] the target: 39\n",
      "when the input is [54, 43, 39, 49, 1, 39, 45, 39] the target: 47\n",
      "when the input is [43] the target: 56\n",
      "when the input is [43, 56] the target: 57\n",
      "when the input is [43, 56, 57] the target: 11\n",
      "when the input is [43, 56, 57, 11] the target: 1\n",
      "when the input is [43, 56, 57, 11, 1] the target: 61\n",
      "when the input is [43, 56, 57, 11, 1, 61] the target: 46\n",
      "when the input is [43, 56, 57, 11, 1, 61, 46] the target: 53\n",
      "when the input is [43, 56, 57, 11, 1, 61, 46, 53] the target: 6\n",
      "when the input is [43] the target: 1\n",
      "when the input is [43, 1] the target: 46\n",
      "when the input is [43, 1, 46] the target: 39\n",
      "when the input is [43, 1, 46, 39] the target: 58\n",
      "when the input is [43, 1, 46, 39, 58] the target: 46\n",
      "when the input is [43, 1, 46, 39, 58, 46] the target: 1\n",
      "when the input is [43, 1, 46, 39, 58, 46, 1] the target: 58\n",
      "when the input is [43, 1, 46, 39, 58, 46, 1, 58] the target: 56\n",
      "when the input is [43] the target: 1\n",
      "when the input is [43, 1] the target: 47\n",
      "when the input is [43, 1, 47] the target: 57\n",
      "when the input is [43, 1, 47, 57] the target: 1\n",
      "when the input is [43, 1, 47, 57, 1] the target: 57\n",
      "when the input is [43, 1, 47, 57, 1, 57] the target: 53\n",
      "when the input is [43, 1, 47, 57, 1, 57, 53] the target: 1\n",
      "when the input is [43, 1, 47, 57, 1, 57, 53, 1] the target: 50\n"
     ]
    }
   ],
   "source": [
    "torch.manual_seed(42)\n",
    "batch_size = 4\n",
    "block_size = 8\n",
    "\n",
    "\n",
    "def get_batch(split):\n",
    "    data = train_data if split == \"train\" else val_data\n",
    "    ix = torch.randint(len(data) - block_size, (batch_size,))\n",
    "    x = torch.stack([data[i:i+block_size] for i in ix])\n",
    "    y = torch.stack([data[i+1:i+block_size+1] for i in ix])\n",
    "    return x, y\n",
    "\n",
    "\n",
    "xb, yb = get_batch(\"train\")\n",
    "print(\"inputs: \")\n",
    "print(xb.shape)\n",
    "print(xb)\n",
    "\n",
    "print(\"target: \")\n",
    "print(yb.shape)\n",
    "print(yb)\n",
    "\n",
    "print('--------------------')\n",
    "for b in range(batch_size):\n",
    "    for t in range(block_size):\n",
    "        context = xb[b, : t+1]\n",
    "        target = yb[b, t]\n",
    "        print(f\"when the input is {context.tolist()} the target: {target}\")"
   ]
  },
  {
   "cell_type": "code",
   "execution_count": 30,
   "metadata": {},
   "outputs": [
    {
     "name": "stdout",
     "output_type": "stream",
     "text": [
      "tensor([[54, 43, 39, 49,  1, 39, 45, 39],\n",
      "        [43, 56, 57, 11,  1, 61, 46, 53],\n",
      "        [43,  1, 46, 39, 58, 46,  1, 58],\n",
      "        [43,  1, 47, 57,  1, 57, 53,  1]])\n"
     ]
    }
   ],
   "source": [
    "print(xb)"
   ]
  },
  {
   "cell_type": "code",
   "execution_count": 31,
   "metadata": {},
   "outputs": [
    {
     "name": "stdout",
     "output_type": "stream",
     "text": [
      "torch.Size([32, 65])\n",
      "tensor(4.6978, grad_fn=<NllLossBackward0>)\n",
      "\n",
      "N$;UE3Fts\n",
      "On,EXd;QMBxdjO:EvGyI!GLOEx&MBcLuTZK.lkq,-Gu,pwxdu-VqIy&Hqp$e?liHHKJPXBbYgbQJgIaCd$GtFcZ'mA\n"
     ]
    }
   ],
   "source": [
    "import torch\n",
    "import torch.nn as nn\n",
    "from torch.nn import functional as F\n",
    "torch.manual_seed(137)\n",
    "\n",
    "\n",
    "class BigramLanguageModel(nn.Module):\n",
    "    def __init__(self, vocab_size):\n",
    "        super().__init__()\n",
    "        self.token_embedding_table = nn.Embedding(vocab_size, vocab_size)\n",
    "\n",
    "    def forward(self, idx, targets=None):\n",
    "        logits = self.token_embedding_table(idx)  # (B,T,C) Batch Time Channel\n",
    "        if targets is None:\n",
    "            loss = None\n",
    "        else:\n",
    "            B, T, C = logits.shape\n",
    "            logits = logits.view(B*T, C)\n",
    "            targets = targets.view(B*T)\n",
    "            loss = F.cross_entropy(logits, targets)\n",
    "        return logits, loss\n",
    "\n",
    "    def generate(self, idx, max_new_tokens):\n",
    "        for _ in range(max_new_tokens):\n",
    "            logits, loss = self(idx)\n",
    "            logits = logits[:, -1, :]\n",
    "            probs = F.softmax(logits, dim=-1)\n",
    "            idx_next = torch.multinomial(probs, num_samples=1)\n",
    "            idx = torch.cat((idx, idx_next), dim=1)\n",
    "        return idx\n",
    "\n",
    "\n",
    "m = BigramLanguageModel(vocab_size)\n",
    "logits, loss = m(xb, yb)\n",
    "print(logits.shape)\n",
    "print(loss)\n",
    "\n",
    "idx = torch.zeros((1, 1), dtype=torch.long)\n",
    "print(decode(m.generate(idx, max_new_tokens=100)[0].tolist()))"
   ]
  },
  {
   "cell_type": "code",
   "execution_count": 32,
   "metadata": {},
   "outputs": [],
   "source": [
    "optimizer = torch.optim.Adam(m.parameters(), lr=1e-3)"
   ]
  },
  {
   "cell_type": "code",
   "execution_count": 33,
   "metadata": {},
   "outputs": [
    {
     "name": "stdout",
     "output_type": "stream",
     "text": [
      "4.595366954803467\n"
     ]
    }
   ],
   "source": [
    "batch_size = 32\n",
    "for steps in range(100):\n",
    "    xb, yb = get_batch(\"train\")\n",
    "    logits, loss = m(xb, yb)\n",
    "    optimizer.zero_grad(set_to_none=True)\n",
    "    loss.backward()\n",
    "    optimizer.step()\n",
    "\n",
    "print(loss.item())"
   ]
  },
  {
   "cell_type": "code",
   "execution_count": 34,
   "metadata": {},
   "outputs": [
    {
     "data": {
      "text/plain": [
       "torch.Size([4, 8, 2])"
      ]
     },
     "execution_count": 34,
     "metadata": {},
     "output_type": "execute_result"
    }
   ],
   "source": [
    "torch.manual_seed(42)\n",
    "B, T, C = 4, 8, 2\n",
    "x = torch.randn(B, T, C)\n",
    "x.shape"
   ]
  },
  {
   "cell_type": "code",
   "execution_count": 35,
   "metadata": {},
   "outputs": [],
   "source": [
    "xbow = torch.zeros((B, T, C))\n",
    "for b in range(B):\n",
    "    for t in range(T):\n",
    "        xprev = x[b, :t+1]\n",
    "        xbow[b, t] = torch.mean(xprev, 0)"
   ]
  },
  {
   "cell_type": "code",
   "execution_count": 36,
   "metadata": {},
   "outputs": [
    {
     "data": {
      "text/plain": [
       "True"
      ]
     },
     "execution_count": 36,
     "metadata": {},
     "output_type": "execute_result"
    }
   ],
   "source": [
    "# version 2\n",
    "wei = torch.tril(torch.ones(T, T))\n",
    "wei = wei/wei.sum(1, keepdim=True)\n",
    "xbow2 = wei@x\n",
    "torch.allclose(xbow, xbow2)"
   ]
  },
  {
   "cell_type": "code",
   "execution_count": 37,
   "metadata": {},
   "outputs": [
    {
     "data": {
      "text/plain": [
       "True"
      ]
     },
     "execution_count": 37,
     "metadata": {},
     "output_type": "execute_result"
    }
   ],
   "source": [
    "# version 3: use softmax\n",
    "tril = torch.tril(torch.ones(T, T))\n",
    "wei = torch.zeros((T, T))\n",
    "wei = wei.masked_fill(tril == 0, float(\"-inf\"))\n",
    "wei = F.softmax(wei, dim=-1)\n",
    "xbow3 = wei@x\n",
    "torch.allclose(xbow, xbow3)"
   ]
  },
  {
   "cell_type": "code",
   "execution_count": 38,
   "metadata": {},
   "outputs": [
    {
     "data": {
      "text/plain": [
       "tensor([[0., -inf, -inf, -inf, -inf, -inf, -inf, -inf],\n",
       "        [0., 0., -inf, -inf, -inf, -inf, -inf, -inf],\n",
       "        [0., 0., 0., -inf, -inf, -inf, -inf, -inf],\n",
       "        [0., 0., 0., 0., -inf, -inf, -inf, -inf],\n",
       "        [0., 0., 0., 0., 0., -inf, -inf, -inf],\n",
       "        [0., 0., 0., 0., 0., 0., -inf, -inf],\n",
       "        [0., 0., 0., 0., 0., 0., 0., -inf],\n",
       "        [0., 0., 0., 0., 0., 0., 0., 0.]])"
      ]
     },
     "execution_count": 38,
     "metadata": {},
     "output_type": "execute_result"
    }
   ],
   "source": [
    "wei = torch.zeros((T, T))\n",
    "wei = wei.masked_fill(tril == 0, float(\"-inf\"))\n",
    "wei"
   ]
  },
  {
   "cell_type": "code",
   "execution_count": null,
   "metadata": {},
   "outputs": [
    {
     "data": {
      "text/plain": [
       "torch.Size([4, 8, 16])"
      ]
     },
     "execution_count": 55,
     "metadata": {},
     "output_type": "execute_result"
    }
   ],
   "source": [
    "# version 4: self-attention\n",
    "torch.manual_seed(42)\n",
    "B, T, C = 4, 8, 32\n",
    "x = torch.randn(B, T, C)\n",
    "\n",
    "head_size = 16\n",
    "key = nn.Linear(C, head_size, bias=False)\n",
    "query = nn.Linear(C, head_size, bias=False)\n",
    "value = nn.Linear(C, head_size, bias=False)\n",
    "k = key(x)  # (B,T,16)\n",
    "q = query(x)  # (B,T,16)\n",
    "wei = q@k.transpose(-2, -1)  # (B,T,16)@(B,16,T) ---> (B,T,T)\n",
    "\n",
    "tril = torch.tril(torch.ones(T, T))\n",
    "# wei = torch.zeros((T, T))\n",
    "wei = wei.masked_fill(tril == 0, float(\"-inf\"))\n",
    "wei = F.softmax(wei, dim=-1)\n",
    "out = wei@x\n",
    "\n",
    "v = value(x)\n",
    "out = wei@v\n",
    "\n",
    "out.shape"
   ]
  },
  {
   "cell_type": "code",
   "execution_count": 51,
   "metadata": {},
   "outputs": [
    {
     "data": {
      "text/plain": [
       "tensor([[[-0.3332, -1.1723, -1.0216, -0.0545, -1.0950,  0.2735,  0.1340,\n",
       "          -0.8490],\n",
       "         [-0.6597,  0.7869, -1.2725,  1.6851,  0.1159,  0.5450,  0.2356,\n",
       "          -0.1962],\n",
       "         [ 0.3630, -1.5219,  0.7821, -1.7215, -0.3494,  0.2884, -0.1021,\n",
       "          -1.4271],\n",
       "         [-0.1001,  0.8649, -0.0335,  1.0221, -0.1350, -0.3078,  0.1440,\n",
       "          -0.3019],\n",
       "         [ 0.0136, -1.6202, -1.9888, -0.3327, -1.2506, -0.8928, -2.2674,\n",
       "           3.0561],\n",
       "         [-0.5833,  1.2025, -0.3281,  0.9147,  0.9809, -0.4859,  1.7589,\n",
       "           0.1650],\n",
       "         [ 1.1351, -1.9940,  1.5545, -1.8037, -0.5062, -2.6109, -1.0739,\n",
       "           1.6430],\n",
       "         [-1.2784, -0.4554, -1.4118,  0.6392, -0.5780,  1.9291,  1.6689,\n",
       "           0.1103]],\n",
       "\n",
       "        [[ 0.0685,  0.8637, -0.6632, -0.6766,  0.3320,  0.5343, -0.1189,\n",
       "          -0.4954],\n",
       "         [-0.3457, -0.6529,  1.8824,  2.0650, -0.0657, -0.6715,  1.4419,\n",
       "          -0.1583],\n",
       "         [-0.0532, -2.0680,  0.5618, -1.8266,  0.9683, -0.3595, -0.1953,\n",
       "           1.8939],\n",
       "         [ 4.8230, -3.2096, -0.1085, -0.4954, -1.7757, -0.6045,  1.5651,\n",
       "          -0.5931],\n",
       "         [-3.5622,  3.7869, -0.6365, -0.3043, -0.0541,  0.2013, -0.3909,\n",
       "           1.2404],\n",
       "         [-4.2631,  3.2677, -0.0738,  1.3912,  0.6345,  0.5088, -0.2544,\n",
       "           0.8281],\n",
       "         [ 1.6236, -1.5654, -0.7652, -0.7248, -0.2393, -0.7221,  0.2028,\n",
       "          -1.0873],\n",
       "         [-2.2400,  3.2660, -0.4738,  0.7659, -0.9465,  0.1319,  0.7583,\n",
       "           0.7500]],\n",
       "\n",
       "        [[-0.0314,  0.2432,  0.6900,  3.0115,  2.0694, -1.9951, -1.2359,\n",
       "          -1.8439],\n",
       "         [-2.0277,  0.3562,  2.3180,  2.0301, -0.3015,  1.8700, -2.2014,\n",
       "          -2.0738],\n",
       "         [-1.8383, -0.0600,  0.5855,  1.2383,  0.3526,  0.8046, -1.8479,\n",
       "          -0.9355],\n",
       "         [ 0.5299,  1.4638,  2.5979,  0.5391, -3.5146,  1.8997, -1.7077,\n",
       "          -1.5062],\n",
       "         [ 1.6449, -0.6936, -1.2360,  1.3106,  0.4067, -2.5170,  0.9544,\n",
       "          -0.6532],\n",
       "         [-1.9045, -1.1392, -0.1105, -2.7667, -0.8025,  3.8325, -0.2067,\n",
       "           1.8609],\n",
       "         [ 0.5785, -1.2410, -1.2474, -2.1258,  0.6188, -1.0260,  1.5934,\n",
       "           2.1066],\n",
       "         [-2.2108, -1.9236, -2.0073,  1.1402,  2.6994, -3.1374,  1.5955,\n",
       "          -0.2352]],\n",
       "\n",
       "        [[ 0.4770, -0.8036,  0.6485,  1.7210,  1.0219,  0.0428,  0.3335,\n",
       "          -0.0809],\n",
       "         [ 0.1920,  0.0650,  0.6659, -1.6642,  0.2617,  1.2427, -0.0642,\n",
       "           0.4364],\n",
       "         [-1.5678,  0.0473,  0.9261, -0.3383,  1.0800, -0.6310,  1.4611,\n",
       "           0.5233],\n",
       "         [ 1.4212,  0.1287, -0.5043,  1.4374,  0.8206,  0.3293, -0.1394,\n",
       "           0.4498],\n",
       "         [ 0.4617, -0.8008, -3.4562, -1.3081, -0.5987, -0.2240, -2.5389,\n",
       "          -0.7223],\n",
       "         [ 0.4312, -0.4930, -1.0866,  1.0946, -0.0532,  0.1422, -0.5041,\n",
       "          -0.5325],\n",
       "         [ 3.5177,  0.2910, -2.6452,  0.4690, -0.0807,  1.4431, -1.6943,\n",
       "           0.4496],\n",
       "         [-0.4898,  0.4337, -0.4948, -1.2595, -0.5212, -1.1997, -1.4466,\n",
       "           0.0328]]], grad_fn=<UnsafeViewBackward0>)"
      ]
     },
     "execution_count": 51,
     "metadata": {},
     "output_type": "execute_result"
    }
   ],
   "source": [
    "wei"
   ]
  },
  {
   "cell_type": "code",
   "execution_count": 40,
   "metadata": {},
   "outputs": [
    {
     "data": {
      "text/plain": [
       "(tensor([[ 1.9269,  1.4873],\n",
       "         [ 1.4138, -0.3091],\n",
       "         [ 1.1687, -0.6176],\n",
       "         [ 0.8657, -0.8644],\n",
       "         [ 0.5422, -0.3617],\n",
       "         [ 0.3864, -0.5354],\n",
       "         [ 0.2272, -0.5388],\n",
       "         [ 0.1027, -0.3762]]),\n",
       " tensor([[ 1.9269,  1.4873],\n",
       "         [ 1.4138, -0.3091],\n",
       "         [ 1.1687, -0.6176],\n",
       "         [ 0.8657, -0.8644],\n",
       "         [ 0.5422, -0.3617],\n",
       "         [ 0.3864, -0.5354],\n",
       "         [ 0.2272, -0.5388],\n",
       "         [ 0.1027, -0.3762]]))"
      ]
     },
     "execution_count": 40,
     "metadata": {},
     "output_type": "execute_result"
    }
   ],
   "source": [
    "xbow[0], xbow2[0]"
   ]
  },
  {
   "cell_type": "code",
   "execution_count": 41,
   "metadata": {},
   "outputs": [
    {
     "data": {
      "text/plain": [
       "tensor([[ 1.9269e+00,  1.4873e+00,  9.0072e-01, -2.1055e+00,  6.7842e-01,\n",
       "         -1.2345e+00, -4.3067e-02, -1.6047e+00, -7.5214e-01,  1.6487e+00,\n",
       "         -3.9248e-01, -1.4036e+00, -7.2788e-01, -5.5943e-01, -7.6884e-01,\n",
       "          7.6245e-01,  1.6423e+00, -1.5960e-01, -4.9740e-01,  4.3959e-01,\n",
       "         -7.5813e-01,  1.0783e+00,  8.0080e-01,  1.6806e+00,  1.2791e+00,\n",
       "          1.2964e+00,  6.1047e-01,  1.3347e+00, -2.3162e-01,  4.1759e-02,\n",
       "         -2.5158e-01,  8.5986e-01],\n",
       "        [-1.3847e+00, -8.7124e-01, -2.2337e-01,  1.7174e+00,  3.1888e-01,\n",
       "         -4.2452e-01,  3.0572e-01, -7.7459e-01, -1.5576e+00,  9.9564e-01,\n",
       "         -8.7979e-01, -6.0114e-01, -1.2742e+00,  2.1228e+00, -1.2347e+00,\n",
       "         -4.8791e-01, -9.1382e-01, -6.5814e-01,  7.8024e-02,  5.2581e-01,\n",
       "         -4.8799e-01,  1.1914e+00, -8.1401e-01, -7.3599e-01, -1.4032e+00,\n",
       "          3.6004e-02, -6.3477e-02,  6.7561e-01, -9.7807e-02,  1.8446e+00,\n",
       "         -1.1845e+00,  1.3835e+00],\n",
       "        [ 1.4451e+00,  8.5641e-01,  2.2181e+00,  5.2317e-01,  3.4665e-01,\n",
       "         -1.9733e-01, -1.0546e+00,  1.2780e+00, -1.7219e-01,  5.2379e-01,\n",
       "          5.6622e-02,  4.2630e-01,  5.7501e-01, -6.4172e-01, -2.2064e+00,\n",
       "         -7.5080e-01,  1.0868e-02, -3.3874e-01, -1.3407e+00, -5.8537e-01,\n",
       "          5.3619e-01,  5.2462e-01,  1.1412e+00,  5.1644e-02,  7.4395e-01,\n",
       "         -4.8158e-01, -1.0495e+00,  6.0390e-01, -1.7223e+00, -8.2777e-01,\n",
       "          1.3347e+00,  4.8354e-01],\n",
       "        [-2.5095e+00,  4.8800e-01,  7.8459e-01,  2.8647e-02,  6.4076e-01,\n",
       "          5.8325e-01,  1.0669e+00, -4.5015e-01, -1.8527e-01,  7.5276e-01,\n",
       "          4.0476e-01,  1.7847e-01,  2.6491e-01,  1.2732e+00, -1.3109e-03,\n",
       "         -3.0360e-01, -1.4570e+00, -1.0234e-01, -5.9915e-01,  4.7706e-01,\n",
       "          7.2618e-01,  9.1152e-02, -3.8907e-01,  5.2792e-01, -1.2685e-02,\n",
       "          2.4084e-01,  1.3254e-01,  7.6424e-01,  1.0950e+00,  3.3989e-01,\n",
       "          7.1997e-01,  4.1141e-01],\n",
       "        [ 1.9312e+00,  1.0119e+00, -1.4364e+00, -1.1299e+00, -1.3603e-01,\n",
       "          1.6354e+00,  6.5474e-01,  5.7600e-01,  1.1415e+00,  1.8565e-02,\n",
       "         -1.8058e+00,  9.2543e-01, -3.7534e-01,  1.0331e+00, -6.8665e-01,\n",
       "          6.3681e-01, -9.7267e-01,  9.5846e-01,  1.6192e+00,  1.4506e+00,\n",
       "          2.6948e-01, -2.1038e-01, -7.3280e-01,  1.0430e-01,  3.4875e-01,\n",
       "          9.6759e-01, -4.6569e-01,  1.6048e+00, -2.4801e+00, -4.1754e-01,\n",
       "         -1.1955e+00,  8.1234e-01],\n",
       "        [-1.9006e+00,  2.2858e-01,  2.4859e-02, -3.4595e-01,  2.8683e-01,\n",
       "         -7.3084e-01,  1.7482e-01, -1.0939e+00, -1.6022e+00,  1.3529e+00,\n",
       "          1.2888e+00,  5.2296e-02, -1.5469e+00,  7.5671e-01,  7.7552e-01,\n",
       "          2.0265e+00,  3.5818e-02,  1.2059e-01, -8.0566e-01, -2.0758e-01,\n",
       "         -9.3195e-01, -1.5910e+00, -1.1360e+00, -5.2260e-01, -5.1877e-01,\n",
       "         -1.5013e+00, -1.9267e+00,  1.2785e-01,  1.0229e+00, -5.5579e-01,\n",
       "          7.0427e-01,  7.0988e-01],\n",
       "        [ 1.7744e+00, -9.2155e-01,  9.6245e-01, -3.3702e-01, -1.1753e+00,\n",
       "          3.5806e-01,  4.7877e-01,  1.3537e+00,  5.2606e-01,  2.1120e+00,\n",
       "         -5.2076e-01, -9.3201e-01,  1.8516e-01,  1.0687e+00,  1.3065e+00,\n",
       "          4.5983e-01, -8.1463e-01, -1.0212e+00, -4.9492e-01, -5.9225e-01,\n",
       "          1.5432e-01,  4.4077e-01, -1.4829e-01, -2.3184e+00, -3.9800e-01,\n",
       "          1.0805e+00, -1.7809e+00,  1.5080e+00,  3.0943e-01, -5.0031e-01,\n",
       "          1.0350e+00,  1.6896e+00],\n",
       "        [-4.5051e-03,  1.6668e+00,  1.5392e-01, -1.0603e+00, -5.7266e-01,\n",
       "          8.3568e-02,  3.9991e-01,  1.9892e+00, -7.1988e-02, -9.0609e-01,\n",
       "         -2.0487e+00, -1.0811e+00,  1.7623e-02,  7.8226e-02,  1.9316e-01,\n",
       "          4.0967e-01, -9.2913e-01,  2.7619e-01, -5.3888e-01,  4.6258e-01,\n",
       "         -8.7189e-01, -2.7118e-02, -3.5325e-01,  1.4639e+00,  1.2554e+00,\n",
       "         -7.1496e-01,  8.5392e-01,  5.1299e-01,  5.3973e-01,  5.6551e-01,\n",
       "          5.0579e-01,  2.2245e-01]])"
      ]
     },
     "execution_count": 41,
     "metadata": {},
     "output_type": "execute_result"
    }
   ],
   "source": [
    "x[0]"
   ]
  },
  {
   "cell_type": "code",
   "execution_count": 42,
   "metadata": {},
   "outputs": [
    {
     "data": {
      "text/plain": [
       "tensor([[ 1.9269,  1.4873],\n",
       "        [ 1.4138, -0.3091],\n",
       "        [ 1.1687, -0.6176],\n",
       "        [ 0.8657, -0.8644],\n",
       "        [ 0.5422, -0.3617],\n",
       "        [ 0.3864, -0.5354],\n",
       "        [ 0.2272, -0.5388],\n",
       "        [ 0.1027, -0.3762]])"
      ]
     },
     "execution_count": 42,
     "metadata": {},
     "output_type": "execute_result"
    }
   ],
   "source": [
    "xbow[0]"
   ]
  },
  {
   "cell_type": "code",
   "execution_count": 43,
   "metadata": {},
   "outputs": [
    {
     "data": {
      "text/plain": [
       "tensor([[1., 0., 0.],\n",
       "        [1., 1., 0.],\n",
       "        [1., 1., 1.]])"
      ]
     },
     "execution_count": 43,
     "metadata": {},
     "output_type": "execute_result"
    }
   ],
   "source": [
    "torch.tril(torch.ones(3, 3))"
   ]
  },
  {
   "cell_type": "code",
   "execution_count": 44,
   "metadata": {},
   "outputs": [
    {
     "name": "stdout",
     "output_type": "stream",
     "text": [
      "a=\n",
      "tensor([[1., 1., 1.],\n",
      "        [1., 1., 1.],\n",
      "        [1., 1., 1.]])\n",
      "b=\n",
      "tensor([[2., 7.],\n",
      "        [6., 4.],\n",
      "        [6., 5.]])\n",
      "c=\n",
      "tensor([[14., 16.],\n",
      "        [14., 16.],\n",
      "        [14., 16.]])\n"
     ]
    }
   ],
   "source": [
    "torch.manual_seed(42)\n",
    "a = torch.ones(3, 3)\n",
    "b = torch.randint(0, 10, (3, 2)).float()\n",
    "c = a@b\n",
    "print(\"a=\")\n",
    "print(a)\n",
    "print(\"b=\")\n",
    "print(b)\n",
    "print('c=')\n",
    "print(c)"
   ]
  },
  {
   "cell_type": "code",
   "execution_count": null,
   "metadata": {},
   "outputs": [],
   "source": []
  }
 ],
 "metadata": {
  "kernelspec": {
   "display_name": "build-gpt",
   "language": "python",
   "name": "python3"
  },
  "language_info": {
   "codemirror_mode": {
    "name": "ipython",
    "version": 3
   },
   "file_extension": ".py",
   "mimetype": "text/x-python",
   "name": "python",
   "nbconvert_exporter": "python",
   "pygments_lexer": "ipython3",
   "version": "3.11.6"
  }
 },
 "nbformat": 4,
 "nbformat_minor": 2
}
